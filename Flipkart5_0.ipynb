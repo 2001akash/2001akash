{
  "nbformat": 4,
  "nbformat_minor": 0,
  "metadata": {
    "colab": {
      "provenance": [],
      "authorship_tag": "ABX9TyNMceqjJK5wJJSPTmy09pWy",
      "include_colab_link": true
    },
    "kernelspec": {
      "name": "python3",
      "display_name": "Python 3"
    },
    "language_info": {
      "name": "python"
    }
  },
  "cells": [
    {
      "cell_type": "markdown",
      "metadata": {
        "id": "view-in-github",
        "colab_type": "text"
      },
      "source": [
        "<a href=\"https://colab.research.google.com/github/2001akash/2001akash/blob/main/Flipkart5_0.ipynb\" target=\"_parent\"><img src=\"https://colab.research.google.com/assets/colab-badge.svg\" alt=\"Open In Colab\"/></a>"
      ]
    },
    {
      "cell_type": "code",
      "execution_count": 3,
      "metadata": {
        "colab": {
          "base_uri": "https://localhost:8080/"
        },
        "id": "7PXVOGh4uVuC",
        "outputId": "ae61e314-8d62-4bd9-8d15-8b13b479a417"
      },
      "outputs": [
        {
          "output_type": "stream",
          "name": "stdout",
          "text": [
            "Recommendations for User1:\n",
            "Product1 - Score: 1.0\n",
            "Product3 - Score: 1.0\n",
            "Product2 - Score: 0.0\n",
            "Product4 - Score: 0.0\n",
            "Recommendations for User2:\n",
            "Product2 - Score: 1.0\n",
            "Product1 - Score: 0.0\n",
            "Product3 - Score: 0.0\n",
            "Product4 - Score: 0.0\n",
            "Recommendations for User3:\n",
            "Product1 - Score: 1.0\n",
            "Product4 - Score: 1.0\n",
            "Product2 - Score: 0.0\n",
            "Product3 - Score: 0.0\n"
          ]
        }
      ],
      "source": [
        "#SAMPLE CODE\n",
        "# Step 1: Data Generation (Synthetic Data)\n",
        "import random\n",
        "\n",
        "# Generate synthetic user interactions\n",
        "users = ['User1', 'User2', 'User3']\n",
        "products = ['Product1', 'Product2', 'Product3', 'Product4']\n",
        "interactions = [(random.choice(users), random.choice(products)) for _ in range(20)]\n",
        "\n",
        "# Step 2: User Profiling\n",
        "user_profiles = {\n",
        "    'User1': {'age': 25, 'preferences': ['Product1', 'Product3']},\n",
        "    'User2': {'age': 30, 'preferences': ['Product2']},\n",
        "    'User3': {'age': 22, 'preferences': ['Product1', 'Product4']}\n",
        "}\n",
        "\n",
        "# Step 3: Product Representation (Simplified)\n",
        "product_features = {\n",
        "    'Product1': [0.1, 0.5, 0.2],\n",
        "    'Product2': [0.8, 0.3, 0.6],\n",
        "    'Product3': [0.2, 0.4, 0.1],\n",
        "    'Product4': [0.6, 0.7, 0.9]\n",
        "}\n",
        "\n",
        "# Step 4: Similarity Computation (Simplified)\n",
        "from sklearn.metrics.pairwise import cosine_similarity\n",
        "\n",
        "def calculate_similarity(profile1, profile2):\n",
        "    return cosine_similarity([profile1], [profile2])[0][0]\n",
        "\n",
        "# Step 5: Personalized Ranking Algorithm\n",
        "def personalized_ranking(user_profile, interactions):\n",
        "    ranked_products = []\n",
        "\n",
        "    for product in products:\n",
        "        if product in user_profile['preferences']:\n",
        "            ranking_score = 1.0\n",
        "        else:\n",
        "            ranking_score = 0.0\n",
        "\n",
        "        for interaction in interactions:\n",
        "            if interaction[1] == product:\n",
        "                ranking_score += 0.5  # Give a boost to interacted products\n",
        "\n",
        "        ranked_products.append((product, ranking_score))\n",
        "\n",
        "    ranked_products.sort(key=lambda x: x[1], reverse=True)\n",
        "    return ranked_products\n",
        "\n",
        "# Step 6: Evaluation Metrics (Simplified)\n",
        "def evaluate_ranking(predictions, ground_truth):\n",
        "    # Implement your evaluation logic here\n",
        "    pass\n",
        "\n",
        "# Main loop\n",
        "for user in users:\n",
        "    user_profile = user_profiles[user]\n",
        "    user_interactions = [interaction[1] for interaction in interactions if interaction[0] == user]\n",
        "\n",
        "    recommendations = personalized_ranking(user_profile, user_interactions)\n",
        "\n",
        "    print(f\"Recommendations for {user}:\")\n",
        "    for product, score in recommendations:\n",
        "        print(f\"{product} - Score: {score}\")\n"
      ]
    }
  ]
}